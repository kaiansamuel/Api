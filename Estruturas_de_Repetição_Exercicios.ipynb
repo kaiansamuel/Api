{
  "nbformat": 4,
  "nbformat_minor": 0,
  "metadata": {
    "colab": {
      "provenance": [],
      "authorship_tag": "ABX9TyN3UWTkK8BCdL0ta31eHHR2",
      "include_colab_link": true
    },
    "kernelspec": {
      "name": "python3",
      "display_name": "Python 3"
    },
    "language_info": {
      "name": "python"
    }
  },
  "cells": [
    {
      "cell_type": "markdown",
      "metadata": {
        "id": "view-in-github",
        "colab_type": "text"
      },
      "source": [
        "<a href=\"https://colab.research.google.com/github/kaiansamuel/Api/blob/main/Estruturas_de_Repeti%C3%A7%C3%A3o_Exercicios.ipynb\" target=\"_parent\"><img src=\"https://colab.research.google.com/assets/colab-badge.svg\" alt=\"Open In Colab\"/></a>"
      ]
    },
    {
      "cell_type": "code",
      "source": [
        "tab = int(input('Informe a tabuada que deseja imprimir: '))\n",
        "for x in range(1, 11):\n",
        "  print(x, 'X' , tab, ' =', x * tab)\n",
        ""
      ],
      "metadata": {
        "colab": {
          "base_uri": "https://localhost:8080/"
        },
        "id": "h-xGmiDwTlun",
        "outputId": "c75038f6-60f3-4a73-b30c-a1e911645eb0"
      },
      "execution_count": 1,
      "outputs": [
        {
          "output_type": "stream",
          "name": "stdout",
          "text": [
            "Informe a tabuada que deseja imprimir: 2\n",
            "1 X 2  = 2\n",
            "2 X 2  = 4\n",
            "3 X 2  = 6\n",
            "4 X 2  = 8\n",
            "5 X 2  = 10\n",
            "6 X 2  = 12\n",
            "7 X 2  = 14\n",
            "8 X 2  = 16\n",
            "9 X 2  = 18\n",
            "10 X 2  = 20\n"
          ]
        }
      ]
    },
    {
      "cell_type": "code",
      "execution_count": 3,
      "metadata": {
        "colab": {
          "base_uri": "https://localhost:8080/"
        },
        "id": "F_GiY4a_STse",
        "outputId": "68cfca20-c23c-46fd-f44f-495e6be3d418"
      },
      "outputs": [
        {
          "name": "stdout",
          "output_type": "stream",
          "text": [
            "Informe a tabuada que deseja imprimir: 4\n",
            "1 X 4  = 4\n",
            "2 X 4  = 8\n",
            "3 X 4  = 12\n",
            "4 X 4  = 16\n",
            "5 X 4  = 20\n",
            "6 X 4  = 24\n",
            "7 X 4  = 28\n",
            "8 X 4  = 32\n",
            "9 X 4  = 36\n",
            "10 X 4  = 40\n",
            "Deseja imprimir outro numero?: (S/N)s\n",
            "Informe a tabuada que deseja imprimir: 1\n",
            "1 X 1  = 1\n",
            "2 X 1  = 2\n",
            "3 X 1  = 3\n",
            "4 X 1  = 4\n",
            "5 X 1  = 5\n",
            "6 X 1  = 6\n",
            "7 X 1  = 7\n",
            "8 X 1  = 8\n",
            "9 X 1  = 9\n",
            "10 X 1  = 10\n",
            "Deseja imprimir outro numero?: (S/N)n\n"
          ]
        }
      ],
      "source": [
        "impressao = True\n",
        "while impressao == True:\n",
        "  tab = int(input('Informe a tabuada que deseja imprimir: '))\n",
        "  for n in range(1, 11):\n",
        "    print(n, 'X', tab, ' =', n * tab)\n",
        "  resp = input('Deseja imprimir outro numero?: (S/N)')\n",
        "  if resp.upper() == 'N':\n",
        "    impressao = False"
      ]
    },
    {
      "cell_type": "code",
      "source": [
        "tab = int(input('Quantos numeros serão calculados?:'))\n",
        "soma = 0\n",
        "for tab in range(1, tab + 1):\n",
        "  texto = 'Informe o ', str(tab), 'º numero: '\n",
        "  soma = soma + int(input(texto))\n",
        "\n",
        "print('A média dos número é igual a: ', soma / tab)"
      ],
      "metadata": {
        "colab": {
          "base_uri": "https://localhost:8080/"
        },
        "id": "1j7d3eklYejF",
        "outputId": "18f81532-1af2-4b58-f134-2f8d8b9b0ba3"
      },
      "execution_count": 5,
      "outputs": [
        {
          "output_type": "stream",
          "name": "stdout",
          "text": [
            "Quantos numeros serão calculados?:3\n",
            "('Informe o ', '1', 'º numero: ')34\n",
            "('Informe o ', '2', 'º numero: ')62\n",
            "('Informe o ', '3', 'º numero: ')75\n",
            "A média é igual dos número é igual a:  57.0\n"
          ]
        }
      ]
    }
  ]
}