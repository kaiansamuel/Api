{
  "cells": [
    {
      "cell_type": "markdown",
      "metadata": {
        "id": "view-in-github",
        "colab_type": "text"
      },
      "source": [
        "<a href=\"https://colab.research.google.com/github/kaiansamuel/Api/blob/main/2_Fundamentos.ipynb\" target=\"_parent\"><img src=\"https://colab.research.google.com/assets/colab-badge.svg\" alt=\"Open In Colab\"/></a>"
      ]
    },
    {
      "cell_type": "markdown",
      "metadata": {
        "id": "AefM_ZxhFIid"
      },
      "source": [
        "Prof. Fernando Amaral\n",
        "\n",
        "www.eia.ai"
      ]
    },
    {
      "cell_type": "markdown",
      "metadata": {
        "id": "S4zU8ROW4Q03"
      },
      "source": [
        "# Fundamentos\n",
        "## Comentários"
      ]
    },
    {
      "cell_type": "code",
      "execution_count": null,
      "metadata": {
        "colab": {
          "base_uri": "https://localhost:8080/"
        },
        "id": "uVQPCxcdcVdk",
        "outputId": "1e55f225-a38e-4522-957d-31c330a8f6d5"
      },
      "outputs": [
        {
          "name": "stdout",
          "output_type": "stream",
          "text": [
            "olá mundo\n"
          ]
        }
      ],
      "source": [
        "# isto é um comentário\n",
        "# isto é outro comentário\n",
        "print(\"olá mundo\") # isto é um comentário\n"
      ]
    },
    {
      "cell_type": "code",
      "execution_count": null,
      "metadata": {
        "colab": {
          "base_uri": "https://localhost:8080/",
          "height": 35
        },
        "id": "EBuSKWpQeEJ3",
        "outputId": "0ab88248-9d7d-45f9-fd22-807bf45aa70c"
      },
      "outputs": [
        {
          "data": {
            "application/vnd.google.colaboratory.intrinsic+json": {
              "type": "string"
            },
            "text/plain": [
              "' Este é um comentário\\no comentário continua aqui\\naqui ainda continua\\ne aqui termina '"
            ]
          },
          "execution_count": 4,
          "metadata": {},
          "output_type": "execute_result"
        }
      ],
      "source": [
        "''' Este é um comentário\n",
        "o comentário continua aqui\n",
        "aqui ainda continua\n",
        "e aqui termina '''"
      ]
    },
    {
      "cell_type": "code",
      "execution_count": null,
      "metadata": {
        "colab": {
          "base_uri": "https://localhost:8080/"
        },
        "id": "CKbMOLLte1kH",
        "outputId": "2bef112d-dc97-41d3-8f7a-4cd13dfe2dc4"
      },
      "outputs": [
        {
          "name": "stdout",
          "output_type": "stream",
          "text": [
            "olá mundo\n",
            "10\n",
            "20.5\n"
          ]
        }
      ],
      "source": [
        "print('olá mundo')\n",
        "print(10)\n",
        "print(20.5)"
      ]
    },
    {
      "cell_type": "code",
      "execution_count": null,
      "metadata": {
        "colab": {
          "base_uri": "https://localhost:8080/"
        },
        "id": "JmwYEgltfDBT",
        "outputId": "ccf342b9-5b49-47d4-b328-e4a61a44204a"
      },
      "outputs": [
        {
          "name": "stdout",
          "output_type": "stream",
          "text": [
            "Maça 20 30.45\n"
          ]
        }
      ],
      "source": [
        "print(\"Maça\", 20, 30.45)"
      ]
    },
    {
      "cell_type": "code",
      "execution_count": null,
      "metadata": {
        "colab": {
          "base_uri": "https://localhost:8080/"
        },
        "id": "ctUelPpcfV-M",
        "outputId": "25ec1d67-134b-480a-8d2a-8054babbd4fb"
      },
      "outputs": [
        {
          "name": "stdout",
          "output_type": "stream",
          "text": [
            "Maça - Pera - Uva\n"
          ]
        }
      ],
      "source": [
        "print(\"Maça\", \"Pera\", \"Uva\", sep=' - ')"
      ]
    },
    {
      "cell_type": "code",
      "execution_count": null,
      "metadata": {
        "colab": {
          "base_uri": "https://localhost:8080/"
        },
        "id": "9aFtRhilfgxG",
        "outputId": "f8b929de-4336-4aed-affb-c595759f2694"
      },
      "outputs": [
        {
          "name": "stdout",
          "output_type": "stream",
          "text": [
            "Maça Pera Fim"
          ]
        }
      ],
      "source": [
        "print(\"Maça\",\"Pera\", end = ' Fim', sep=' ')"
      ]
    },
    {
      "cell_type": "code",
      "execution_count": null,
      "metadata": {
        "colab": {
          "base_uri": "https://localhost:8080/"
        },
        "id": "cxCs0sSvfpJO",
        "outputId": "f668fe66-fe69-47cb-f1d9-4a7d8b5c8f5d"
      },
      "outputs": [
        {
          "name": "stdout",
          "output_type": "stream",
          "text": [
            "Este é um texto longo, \n",
            " eu quero quebrar a linha\n"
          ]
        }
      ],
      "source": [
        " print(\"Este é um texto longo, \\n eu quero quebrar a linha\")"
      ]
    },
    {
      "cell_type": "code",
      "execution_count": null,
      "metadata": {
        "colab": {
          "base_uri": "https://localhost:8080/"
        },
        "id": "qfk1Xdm8gQL4",
        "outputId": "1ac4cbf4-2555-4290-c287-db999058c772"
      },
      "outputs": [
        {
          "name": "stdout",
          "output_type": "stream",
          "text": [
            "Maça\n",
            "Pera\n"
          ]
        }
      ],
      "source": [
        "print(\"Maça\",\"Pera\", sep='\\n')"
      ]
    },
    {
      "cell_type": "code",
      "execution_count": null,
      "metadata": {
        "colab": {
          "base_uri": "https://localhost:8080/"
        },
        "id": "-gRSRYexgZuq",
        "outputId": "b3698753-44ac-4769-b7da-cb0df903a1f0"
      },
      "outputs": [
        {
          "name": "stdout",
          "output_type": "stream",
          "text": [
            "A pontuação total de Fernando foi 10 pontos\n"
          ]
        }
      ],
      "source": [
        "print(\"A pontuação total de %s foi %s pontos\" % (\"Fernando\",\"10\") )"
      ]
    },
    {
      "cell_type": "code",
      "execution_count": null,
      "metadata": {
        "colab": {
          "base_uri": "https://localhost:8080/"
        },
        "id": "VMBU5B7FhHQG",
        "outputId": "6d3b733f-2083-40b9-b597-114218c0f727"
      },
      "outputs": [
        {
          "name": "stdout",
          "output_type": "stream",
          "text": [
            "A pontuação total de Fernando foi 10 pontos\n"
          ]
        }
      ],
      "source": [
        "print(\"A pontuação total de {} foi {} pontos\".format(\"Fernando\",\"10\"))"
      ]
    },
    {
      "cell_type": "code",
      "execution_count": null,
      "metadata": {
        "colab": {
          "base_uri": "https://localhost:8080/"
        },
        "id": "aVMNRqNZhXuH",
        "outputId": "cb3dfd3c-525b-4d43-e1d1-5e371f4846d8"
      },
      "outputs": [
        {
          "name": "stdout",
          "output_type": "stream",
          "text": [
            "A pontuação total de Fernando foi 10 pontos\n"
          ]
        }
      ],
      "source": [
        "print(\"A pontuação total de\" + \" Fernando\" + \" foi\" + \" 10 \" + \"pontos\")"
      ]
    },
    {
      "cell_type": "code",
      "execution_count": null,
      "metadata": {
        "id": "nsenzWtvhqX3"
      },
      "outputs": [],
      "source": [
        "#1 - Realize o print do seu nome completo, sua idade e sua\n",
        "# altura utilizando um print para cada valor."
      ]
    },
    {
      "cell_type": "code",
      "execution_count": null,
      "metadata": {
        "colab": {
          "base_uri": "https://localhost:8080/"
        },
        "id": "JhFY6hdZqQX1",
        "outputId": "8d2e669b-9995-4402-c378-5a1b7acb8343"
      },
      "outputs": [
        {
          "name": "stdout",
          "output_type": "stream",
          "text": [
            "Fernando\n",
            "30\n",
            "1,92\n"
          ]
        }
      ],
      "source": [
        "print(\"Fernando\")\n",
        "print(\"30\")\n",
        "print(\"1,92\")"
      ]
    },
    {
      "cell_type": "code",
      "execution_count": null,
      "metadata": {
        "id": "H85W0qwcjGKc"
      },
      "outputs": [],
      "source": [
        "#2 - Realize o print do seu nome completo, sua idade e sua altura\n",
        "# utilizando apenas um print para todos valores."
      ]
    },
    {
      "cell_type": "code",
      "execution_count": null,
      "metadata": {
        "colab": {
          "base_uri": "https://localhost:8080/"
        },
        "id": "IIw8hF5PqeCb",
        "outputId": "e02bbfdb-b93d-4a5c-b9d3-d72285103537"
      },
      "outputs": [
        {
          "name": "stdout",
          "output_type": "stream",
          "text": [
            "Nome: Fernando, idade:30, altura:1,90\n"
          ]
        }
      ],
      "source": [
        "print(\"Nome: {}, idade:{}, altura:{}\".format(\"Fernando\", \"30\", \"1,90\"))"
      ]
    },
    {
      "cell_type": "code",
      "execution_count": null,
      "metadata": {
        "id": "Oif8K0UZjGTz"
      },
      "outputs": [],
      "source": [
        "#3 - Realize o print de 3 números de sua escolha em um mesmo print,\n",
        "# mas separados pelo caracter '-'."
      ]
    },
    {
      "cell_type": "code",
      "execution_count": null,
      "metadata": {
        "colab": {
          "base_uri": "https://localhost:8080/"
        },
        "id": "9sGx5_7Sq2-1",
        "outputId": "3bc7e9b5-c3d5-4c69-aad1-eb0d4b6913da"
      },
      "outputs": [
        {
          "name": "stdout",
          "output_type": "stream",
          "text": [
            "1-2-3\n"
          ]
        }
      ],
      "source": [
        "print(1,2,3, sep=\"-\")"
      ]
    },
    {
      "cell_type": "markdown",
      "metadata": {
        "id": "zvoP2_E7rS9H"
      },
      "source": [
        "# Variáveis"
      ]
    },
    {
      "cell_type": "code",
      "execution_count": null,
      "metadata": {
        "colab": {
          "base_uri": "https://localhost:8080/"
        },
        "id": "5vwOHhQKq7uZ",
        "outputId": "6cf0b1ab-ff1e-4526-ceff-1f7cb597f506"
      },
      "outputs": [
        {
          "name": "stdout",
          "output_type": "stream",
          "text": [
            "1 2 3 4\n"
          ]
        }
      ],
      "source": [
        "_numero = 1\n",
        "Numero = 2\n",
        "numero = 3\n",
        "numero123 = 4\n",
        "print(_numero, Numero, numero, numero123)"
      ]
    },
    {
      "cell_type": "code",
      "execution_count": null,
      "metadata": {
        "colab": {
          "base_uri": "https://localhost:8080/"
        },
        "id": "P4iUJ17HsILl",
        "outputId": "4ad8c61c-beda-46c6-ba67-97e64832edf9"
      },
      "outputs": [
        {
          "name": "stdout",
          "output_type": "stream",
          "text": [
            "10\n",
            "30\n"
          ]
        }
      ],
      "source": [
        "numero = 10\n",
        "print(numero)\n",
        "numero = 20\n",
        "print(numero)"
      ]
    },
    {
      "cell_type": "code",
      "execution_count": null,
      "metadata": {
        "colab": {
          "base_uri": "https://localhost:8080/"
        },
        "id": "bd5sxAJbtG8d",
        "outputId": "6be2752f-075a-4060-d1c1-9f306211bb40"
      },
      "outputs": [
        {
          "name": "stdout",
          "output_type": "stream",
          "text": [
            "Olá mundo!\n"
          ]
        }
      ],
      "source": [
        "texto = 'Olá mundo!'\n",
        "print(texto)"
      ]
    },
    {
      "cell_type": "markdown",
      "metadata": {
        "id": "KjOoTpXMtrDc"
      },
      "source": [
        "# Tipos Primitivos"
      ]
    },
    {
      "cell_type": "code",
      "execution_count": null,
      "metadata": {
        "colab": {
          "base_uri": "https://localhost:8080/"
        },
        "id": "UGcN2zMgtfXX",
        "outputId": "ecae7261-f05a-490a-fe29-b751a5adbbaa"
      },
      "outputs": [
        {
          "name": "stdout",
          "output_type": "stream",
          "text": [
            "None\n"
          ]
        }
      ],
      "source": [
        "variavel = None\n",
        "print(variavel)"
      ]
    },
    {
      "cell_type": "code",
      "execution_count": null,
      "metadata": {
        "colab": {
          "base_uri": "https://localhost:8080/"
        },
        "id": "ZpXsTZ2dt4SA",
        "outputId": "5da105e1-bb1b-4c7d-d1b5-263dafd27058"
      },
      "outputs": [
        {
          "name": "stdout",
          "output_type": "stream",
          "text": [
            "10\n"
          ]
        }
      ],
      "source": [
        "inteiro = 10\n",
        "print(inteiro)"
      ]
    },
    {
      "cell_type": "code",
      "execution_count": null,
      "metadata": {
        "colab": {
          "base_uri": "https://localhost:8080/"
        },
        "id": "Yta_wS2zui7I",
        "outputId": "df7c7144-6ba7-4253-dcbd-c93f5c122310"
      },
      "outputs": [
        {
          "name": "stdout",
          "output_type": "stream",
          "text": [
            "1.53\n"
          ]
        }
      ],
      "source": [
        "decimal = 1.53\n",
        "print(decimal)"
      ]
    },
    {
      "cell_type": "code",
      "execution_count": null,
      "metadata": {
        "colab": {
          "base_uri": "https://localhost:8080/"
        },
        "id": "QiWTDFbuum94",
        "outputId": "6e576ab0-3162-4ec2-8e4e-244a735f9c76"
      },
      "outputs": [
        {
          "name": "stdout",
          "output_type": "stream",
          "text": [
            "olá, isto é um texto\n"
          ]
        }
      ],
      "source": [
        "texto = \"olá, isto é um texto\"\n",
        "print(texto)"
      ]
    },
    {
      "cell_type": "code",
      "execution_count": null,
      "metadata": {
        "colab": {
          "base_uri": "https://localhost:8080/"
        },
        "id": "QapFsGU1urug",
        "outputId": "90bdffe3-4ffb-4577-8e40-62a6031ad440"
      },
      "outputs": [
        {
          "name": "stdout",
          "output_type": "stream",
          "text": [
            "True\n",
            "False\n"
          ]
        }
      ],
      "source": [
        "var = True\n",
        "print(var)\n",
        "var = False\n",
        "print(var)"
      ]
    },
    {
      "cell_type": "code",
      "execution_count": null,
      "metadata": {
        "colab": {
          "base_uri": "https://localhost:8080/"
        },
        "id": "ixudoksDu7Mw",
        "outputId": "8b3647fd-f91d-4506-f76d-af65d6331d53"
      },
      "outputs": [
        {
          "name": "stdout",
          "output_type": "stream",
          "text": [
            "10\n"
          ]
        }
      ],
      "source": [
        "var1 = 10\n",
        "var2 = var1\n",
        "print(var2)"
      ]
    },
    {
      "cell_type": "code",
      "execution_count": null,
      "metadata": {
        "colab": {
          "base_uri": "https://localhost:8080/"
        },
        "id": "dwtWHQfpvHdY",
        "outputId": "4ed21cde-18ec-43d1-e1a1-0c7d0e3e7284"
      },
      "outputs": [
        {
          "name": "stdout",
          "output_type": "stream",
          "text": [
            "None\n",
            "1\n",
            "Texto\n"
          ]
        }
      ],
      "source": [
        "var = None\n",
        "print(var)\n",
        "var = 1\n",
        "print(var)\n",
        "var = \"Texto\"\n",
        "print(var)"
      ]
    },
    {
      "cell_type": "code",
      "execution_count": null,
      "metadata": {
        "id": "kB1xqtCxvfqi"
      },
      "outputs": [],
      "source": [
        "saldoBancario = 100\n",
        "SaldoBancario = 100\n",
        "saldo_bancario = 100"
      ]
    },
    {
      "cell_type": "code",
      "execution_count": null,
      "metadata": {
        "id": "p1WEAwirzeOd"
      },
      "outputs": [],
      "source": [
        "#1 - Crie uma variável de cada tipo e ponha alguma valor escolhido.\n",
        "#Em seguida, printe todos esses valores."
      ]
    },
    {
      "cell_type": "code",
      "execution_count": null,
      "metadata": {
        "colab": {
          "base_uri": "https://localhost:8080/"
        },
        "id": "MIqyH2iA2wxJ",
        "outputId": "e6e2a36a-380a-4374-f272-288e61feae15"
      },
      "outputs": [
        {
          "name": "stdout",
          "output_type": "stream",
          "text": [
            "750\n",
            "3.1415\n",
            "Maça\n",
            "True\n"
          ]
        }
      ],
      "source": [
        "inteiro = 750\n",
        "decimal = 3.1415\n",
        "text = \"Maça\"\n",
        "booleano = True\n",
        "print(inteiro)\n",
        "print(decimal)\n",
        "print(text)\n",
        "print(booleano)"
      ]
    },
    {
      "cell_type": "code",
      "execution_count": null,
      "metadata": {
        "id": "BHa3dR8Tznfd"
      },
      "outputs": [],
      "source": [
        "#2 - Crie variáveis para guardar seu nome, CPF e uma que indique\n",
        "# se você esta casado, em seguida printe esses valores separadamente,\n",
        "# mas não esqueça de printar junto o que eles significam."
      ]
    },
    {
      "cell_type": "code",
      "execution_count": null,
      "metadata": {
        "colab": {
          "base_uri": "https://localhost:8080/"
        },
        "id": "z77TJ1JA3Hyv",
        "outputId": "7d1c1a27-9d5d-4fdb-faee-f496c937c2d0"
      },
      "outputs": [
        {
          "name": "stdout",
          "output_type": "stream",
          "text": [
            "Nome:  Fernando Amaral\n",
            "CPF:  123.456.789-10\n",
            "Casado:  True\n"
          ]
        }
      ],
      "source": [
        "nome = \"Fernando Amaral\"\n",
        "CPF = \"123.456.789-10\"\n",
        "casado = True\n",
        "print(\"Nome: \", nome)\n",
        "print(\"CPF: \", CPF)\n",
        "print(\"Casado: \", casado)"
      ]
    },
    {
      "cell_type": "markdown",
      "metadata": {
        "id": "HYrbsRFJ4MOh"
      },
      "source": [
        "# Formatação"
      ]
    },
    {
      "cell_type": "code",
      "execution_count": null,
      "metadata": {
        "id": "Kq8B29k_3XZp"
      },
      "outputs": [],
      "source": [
        "# %s texto\n",
        "# %d inteiro\n",
        "# %f real"
      ]
    },
    {
      "cell_type": "code",
      "execution_count": null,
      "metadata": {
        "colab": {
          "base_uri": "https://localhost:8080/"
        },
        "id": "vSz2cS8V4z9V",
        "outputId": "3d8baae4-3d12-48c5-db71-3eb86f6b6d8e"
      },
      "outputs": [
        {
          "name": "stdout",
          "output_type": "stream",
          "text": [
            "O nome dela é Ana \n"
          ]
        }
      ],
      "source": [
        "nome = \"Ana\"\n",
        "texto_formatado = \"O nome dela é %s \" % (nome)\n",
        "print(texto_formatado)"
      ]
    },
    {
      "cell_type": "code",
      "execution_count": null,
      "metadata": {
        "colab": {
          "base_uri": "https://localhost:8080/"
        },
        "id": "7oRPnebS5BOf",
        "outputId": "0f1abff2-e44b-4cbb-d671-8b6d25532254"
      },
      "outputs": [
        {
          "name": "stdout",
          "output_type": "stream",
          "text": [
            "Meu nome é Rodrigo. tenho 23 anos e tenho 1.730000 metros de altura\n"
          ]
        }
      ],
      "source": [
        "nome = \"Rodrigo\"\n",
        "idade = 23\n",
        "altura = 1.73\n",
        "texto = \"Meu nome é %s. tenho %d anos e tenho %f metros de altura\" % (nome, idade, altura)\n",
        "print(texto)"
      ]
    },
    {
      "cell_type": "code",
      "execution_count": null,
      "metadata": {
        "colab": {
          "base_uri": "https://localhost:8080/"
        },
        "id": "08csLqEb5nvt",
        "outputId": "c3d99c11-ac6e-416c-8336-768df7dd4506"
      },
      "outputs": [
        {
          "name": "stdout",
          "output_type": "stream",
          "text": [
            "Número gigante formatado: 1.12\n"
          ]
        }
      ],
      "source": [
        "numero_gigante = 1.123456789\n",
        "print(\"Número gigante formatado: %.2f\" % (numero_gigante))"
      ]
    },
    {
      "cell_type": "code",
      "execution_count": null,
      "metadata": {
        "colab": {
          "base_uri": "https://localhost:8080/"
        },
        "id": "JAlSwUbt6IK3",
        "outputId": "bc24396a-929c-4d23-ca7e-311cd22365e9"
      },
      "outputs": [
        {
          "name": "stdout",
          "output_type": "stream",
          "text": [
            "O valor é False\n",
            "O valor é 0\n"
          ]
        }
      ],
      "source": [
        "valor = False\n",
        "print(\"O valor é %s\" % (valor))\n",
        "print(\"O valor é %d\" % (valor))"
      ]
    },
    {
      "cell_type": "code",
      "execution_count": null,
      "metadata": {
        "colab": {
          "base_uri": "https://localhost:8080/"
        },
        "id": "1WB9r-GW6fs2",
        "outputId": "57223214-2828-4953-b0f2-60b06e6e8da8"
      },
      "outputs": [
        {
          "name": "stdout",
          "output_type": "stream",
          "text": [
            "A parte inteira é 23\n"
          ]
        }
      ],
      "source": [
        "decimal = 23.4566\n",
        "print(\"A parte inteira é %d\" % (decimal))"
      ]
    },
    {
      "cell_type": "code",
      "execution_count": null,
      "metadata": {
        "colab": {
          "base_uri": "https://localhost:8080/"
        },
        "id": "RXZThd8e7pg-",
        "outputId": "1e36be61-e4ce-491a-83ba-176208833a81"
      },
      "outputs": [
        {
          "name": "stdout",
          "output_type": "stream",
          "text": [
            "Olá, assim se quebra uma linha,\n",
            "\tentendeu como quebra a linha?\n",
            "\t\tfim\n"
          ]
        }
      ],
      "source": [
        "texto = \"Olá, assim se quebra uma linha,\\n\\tentendeu como quebra a linha?\\n\\t\\tfim\"\n",
        "print(texto)"
      ]
    },
    {
      "cell_type": "code",
      "execution_count": null,
      "metadata": {
        "colab": {
          "base_uri": "https://localhost:8080/"
        },
        "id": "_pZ372uq7693",
        "outputId": "a3bdee73-5150-4dbd-cfd0-26fac76a16ea"
      },
      "outputs": [
        {
          "name": "stdout",
          "output_type": "stream",
          "text": [
            "Deixa a 'palavra' entre aspas\n"
          ]
        }
      ],
      "source": [
        "texto = 'Deixa a \\'palavra\\' entre aspas'\n",
        "print(texto)"
      ]
    },
    {
      "cell_type": "code",
      "execution_count": null,
      "metadata": {
        "id": "T3L4N1528VOQ"
      },
      "outputs": [],
      "source": [
        "# 1 - Escreva e formate a data em que você nasceu no formato dia/mês/ano.\n",
        "# Não esqueça de criar 3 variáveis para guardar o dia, mês e ano."
      ]
    },
    {
      "cell_type": "code",
      "execution_count": null,
      "metadata": {
        "colab": {
          "base_uri": "https://localhost:8080/"
        },
        "id": "Rn7ZSGxb_pUz",
        "outputId": "7824adc1-1d84-47dc-9b26-7eeb6533cb07"
      },
      "outputs": [
        {
          "name": "stdout",
          "output_type": "stream",
          "text": [
            "Eu nasci em 4/12/1980\n"
          ]
        }
      ],
      "source": [
        "dia, mes, ano = 4, 12, 1980\n",
        "data = \"Eu nasci em %d/%d/%d\" % (dia, mes, ano)\n",
        "print(data)"
      ]
    },
    {
      "cell_type": "code",
      "execution_count": null,
      "metadata": {
        "id": "yn2-pOfz_GDT"
      },
      "outputs": [],
      "source": [
        "# 2 - Escreva e formate a hora e minuto atual.\n",
        "# Não esqueça de criar duas variáveis para guardar a hora e minuto."
      ]
    },
    {
      "cell_type": "code",
      "execution_count": null,
      "metadata": {
        "colab": {
          "base_uri": "https://localhost:8080/"
        },
        "id": "2xAo04whAJrj",
        "outputId": "be42ccef-1b77-4e1e-ce3b-2c313f09f334"
      },
      "outputs": [
        {
          "name": "stdout",
          "output_type": "stream",
          "text": [
            "Agora são 21 horas e 53 minutos\n"
          ]
        }
      ],
      "source": [
        "horas = 21\n",
        "minutos = 53\n",
        "print(\"Agora são %d horas e %d minutos\" % (horas, minutos))"
      ]
    },
    {
      "cell_type": "code",
      "execution_count": null,
      "metadata": {
        "id": "jA-zOKnQ_GHx"
      },
      "outputs": [],
      "source": [
        "# 3 - Escreva um programa que contêm o número PI, que deve ter o valor exato\n",
        "# de 3.14159265359. Agora formate esse número para ter apenas cinco casas decimais."
      ]
    },
    {
      "cell_type": "code",
      "execution_count": null,
      "metadata": {
        "colab": {
          "base_uri": "https://localhost:8080/"
        },
        "id": "1fxPXE_qAWU_",
        "outputId": "baa69e84-9005-4eb2-b6a9-e01f7f3d8832"
      },
      "outputs": [
        {
          "name": "stdout",
          "output_type": "stream",
          "text": [
            "O PI é normalmente exibido com 3.14159\n"
          ]
        }
      ],
      "source": [
        "pi = 3.14159265359\n",
        "pi_formatado = 'O PI é normalmente exibido com %.5f' % (pi)\n",
        "print(pi_formatado)"
      ]
    },
    {
      "cell_type": "markdown",
      "metadata": {
        "id": "QSVnxcQoJ9X9"
      },
      "source": [
        "# Operadores Aritméticos"
      ]
    },
    {
      "cell_type": "code",
      "execution_count": null,
      "metadata": {
        "colab": {
          "base_uri": "https://localhost:8080/"
        },
        "id": "Qk29K3mCAnPn",
        "outputId": "c8830c10-afdf-44ae-da2f-8b1afbdb9cd1"
      },
      "outputs": [
        {
          "name": "stdout",
          "output_type": "stream",
          "text": [
            "30\n"
          ]
        }
      ],
      "source": [
        "print(10 + 20)"
      ]
    },
    {
      "cell_type": "code",
      "execution_count": null,
      "metadata": {
        "colab": {
          "base_uri": "https://localhost:8080/"
        },
        "id": "hF3ptrpQKD1r",
        "outputId": "1d579ce4-5cfb-4437-8713-ede6f80f4185"
      },
      "outputs": [
        {
          "name": "stdout",
          "output_type": "stream",
          "text": [
            "20.5\n"
          ]
        }
      ],
      "source": [
        "numero = 10 + 10.5\n",
        "print(numero)"
      ]
    },
    {
      "cell_type": "code",
      "execution_count": null,
      "metadata": {
        "colab": {
          "base_uri": "https://localhost:8080/"
        },
        "id": "svsnJSr0KJMj",
        "outputId": "317cec7b-544b-4a1e-b9cc-86beda14478a"
      },
      "outputs": [
        {
          "name": "stdout",
          "output_type": "stream",
          "text": [
            "50.5\n"
          ]
        }
      ],
      "source": [
        "outro_numero = 30 + numero\n",
        "print(outro_numero)"
      ]
    },
    {
      "cell_type": "code",
      "execution_count": null,
      "metadata": {
        "colab": {
          "base_uri": "https://localhost:8080/"
        },
        "id": "s71M83iXKSJT",
        "outputId": "28679272-f01d-4972-8384-d0cba8f17528"
      },
      "outputs": [
        {
          "name": "stdout",
          "output_type": "stream",
          "text": [
            "10\n"
          ]
        }
      ],
      "source": [
        "numero = 20 -10\n",
        "print(numero)"
      ]
    },
    {
      "cell_type": "code",
      "execution_count": null,
      "metadata": {
        "colab": {
          "base_uri": "https://localhost:8080/"
        },
        "id": "bPC9hcbwKWg1",
        "outputId": "b0f9db9d-9f47-49d3-8db1-c6aba81035df"
      },
      "outputs": [
        {
          "name": "stdout",
          "output_type": "stream",
          "text": [
            "20\n"
          ]
        }
      ],
      "source": [
        "numero = 10 * 2\n",
        "print(numero)"
      ]
    },
    {
      "cell_type": "code",
      "execution_count": null,
      "metadata": {
        "colab": {
          "base_uri": "https://localhost:8080/"
        },
        "id": "ypvH6lbjKZdk",
        "outputId": "9e35685c-47c1-4173-a008-5eba2d718484"
      },
      "outputs": [
        {
          "name": "stdout",
          "output_type": "stream",
          "text": [
            "3.3333333333333335\n"
          ]
        }
      ],
      "source": [
        "numero = 10 / 3\n",
        "print(numero)"
      ]
    },
    {
      "cell_type": "code",
      "execution_count": null,
      "metadata": {
        "colab": {
          "base_uri": "https://localhost:8080/"
        },
        "id": "eRqui4QaKerD",
        "outputId": "bb69795b-83d8-4c0c-d5df-8c8bdaf20891"
      },
      "outputs": [
        {
          "name": "stdout",
          "output_type": "stream",
          "text": [
            "3\n"
          ]
        }
      ],
      "source": [
        "numero = 10 // 3\n",
        "print(numero)"
      ]
    },
    {
      "cell_type": "code",
      "execution_count": null,
      "metadata": {
        "colab": {
          "base_uri": "https://localhost:8080/"
        },
        "id": "rUjvXu1xKtqr",
        "outputId": "3e51e8cd-c900-44af-f675-6955ab0ca480"
      },
      "outputs": [
        {
          "name": "stdout",
          "output_type": "stream",
          "text": [
            "16\n"
          ]
        }
      ],
      "source": [
        "numero = 2 ** 4\n",
        "print(numero)"
      ]
    },
    {
      "cell_type": "code",
      "execution_count": null,
      "metadata": {
        "colab": {
          "base_uri": "https://localhost:8080/"
        },
        "id": "MVeoMpbnK0sU",
        "outputId": "eb3e2e00-02a5-4c47-d3f1-88dbf877d32a"
      },
      "outputs": [
        {
          "name": "stdout",
          "output_type": "stream",
          "text": [
            "1\n"
          ]
        }
      ],
      "source": [
        "numero = 4 % 3\n",
        "print(numero)"
      ]
    },
    {
      "cell_type": "code",
      "execution_count": null,
      "metadata": {
        "colab": {
          "base_uri": "https://localhost:8080/"
        },
        "id": "_GmR6fwRMN4L",
        "outputId": "c988ba34-e93b-4635-b9b8-9c3a0be71a7e"
      },
      "outputs": [
        {
          "name": "stdout",
          "output_type": "stream",
          "text": [
            "21\n"
          ]
        }
      ],
      "source": [
        "nume1 = 10 * 2 + 1\n",
        "print(nume1)"
      ]
    },
    {
      "cell_type": "code",
      "execution_count": null,
      "metadata": {
        "colab": {
          "base_uri": "https://localhost:8080/"
        },
        "id": "ZNePVjEeOTZJ",
        "outputId": "c6b1e649-1db0-42bc-9bde-a7cbcad7fc77"
      },
      "outputs": [
        {
          "name": "stdout",
          "output_type": "stream",
          "text": [
            "30\n"
          ]
        }
      ],
      "source": [
        "nume1 = 10 * (2 + 1)\n",
        "print(nume1)"
      ]
    },
    {
      "cell_type": "code",
      "execution_count": null,
      "metadata": {
        "colab": {
          "base_uri": "https://localhost:8080/"
        },
        "id": "JvjO1BU4Ohc2",
        "outputId": "a98241bd-43fa-4b1a-c388-30089478ca6a"
      },
      "outputs": [
        {
          "name": "stdout",
          "output_type": "stream",
          "text": [
            "0\n"
          ]
        }
      ],
      "source": [
        "nume1 = 3 * 3 - 9\n",
        "print(nume1)"
      ]
    },
    {
      "cell_type": "code",
      "execution_count": null,
      "metadata": {
        "colab": {
          "base_uri": "https://localhost:8080/"
        },
        "id": "9m-Hh35XOsfV",
        "outputId": "cb0b7104-cde7-424a-8f86-47f82a169b3c"
      },
      "outputs": [
        {
          "name": "stdout",
          "output_type": "stream",
          "text": [
            "-18\n"
          ]
        }
      ],
      "source": [
        "nume1 = 3 * (3 - 9)\n",
        "print(nume1)"
      ]
    },
    {
      "cell_type": "code",
      "execution_count": null,
      "metadata": {
        "colab": {
          "base_uri": "https://localhost:8080/"
        },
        "id": "HS2u2kXNOzvf",
        "outputId": "d301f0e1-a6dd-47ef-9329-98e8801bb8fb"
      },
      "outputs": [
        {
          "name": "stdout",
          "output_type": "stream",
          "text": [
            "120\n"
          ]
        }
      ],
      "source": [
        "nume1 = 20\n",
        "nume2 = 40\n",
        "nume3 = 60\n",
        "resultado = nume1 + nume2 + nume3\n",
        "print(resultado)"
      ]
    },
    {
      "cell_type": "code",
      "execution_count": null,
      "metadata": {
        "colab": {
          "base_uri": "https://localhost:8080/"
        },
        "id": "OzYp8kWGPHz4",
        "outputId": "c8c42007-d72b-49c2-ac3b-19e121f1c139"
      },
      "outputs": [
        {
          "name": "stdout",
          "output_type": "stream",
          "text": [
            "240\n"
          ]
        }
      ],
      "source": [
        "resultado = resultado * 2\n",
        "print(resultado)"
      ]
    },
    {
      "cell_type": "code",
      "execution_count": null,
      "metadata": {
        "colab": {
          "base_uri": "https://localhost:8080/"
        },
        "id": "twUZmhEmPTNr",
        "outputId": "81d49e3c-6996-4752-cf68-29ccad20953f"
      },
      "outputs": [
        {
          "name": "stdout",
          "output_type": "stream",
          "text": [
            "2\n"
          ]
        }
      ],
      "source": [
        "a = 1\n",
        "a += 1\n",
        "print(a)"
      ]
    },
    {
      "cell_type": "code",
      "execution_count": null,
      "metadata": {
        "id": "debeCyqlPmMk"
      },
      "outputs": [],
      "source": [
        "# 1 - Crie um programa que possui duas variáveis, uma recebe o ano\n",
        "# em que estamos e a outra o ano em que você nasceu.\n",
        "# Em seguida subtraia ambas para receber uma estimativa de quantos anos você tem.\n",
        "# Mostre esse valor na saída do programa."
      ]
    },
    {
      "cell_type": "code",
      "execution_count": null,
      "metadata": {
        "colab": {
          "base_uri": "https://localhost:8080/"
        },
        "id": "IlHCVDnqeqr8",
        "outputId": "903c1ef1-6d01-426e-b7e6-51e698b7f443"
      },
      "outputs": [
        {
          "name": "stdout",
          "output_type": "stream",
          "text": [
            "Devo ter em torno de 24 anos\n"
          ]
        }
      ],
      "source": [
        "ano_atual = 2022\n",
        "ano_nascimento = 1998\n",
        "estimativa_idade = ano_atual - ano_nascimento\n",
        "print(\"Devo ter em torno de %d anos\" % (estimativa_idade))"
      ]
    },
    {
      "cell_type": "code",
      "execution_count": null,
      "metadata": {
        "id": "hKRHTO9ySje1"
      },
      "outputs": [],
      "source": [
        "# 2 - Crie um programa que faz a média aritmética entre três números.\n",
        "# Estes números devem ser salvos em uma variável.\n",
        "# Mostre esse valor na saída do programa."
      ]
    },
    {
      "cell_type": "code",
      "execution_count": null,
      "metadata": {
        "colab": {
          "base_uri": "https://localhost:8080/"
        },
        "id": "0QEHsubufW04",
        "outputId": "7f3b898f-fb5c-4ac5-fec7-d907363811f7"
      },
      "outputs": [
        {
          "name": "stdout",
          "output_type": "stream",
          "text": [
            "A média é 10.333333 \n"
          ]
        }
      ],
      "source": [
        "num1 = 10\n",
        "num2 = 15\n",
        "num3 = 6\n",
        "media = (num1 + num2 + num3) / 3\n",
        "print(\"A média é %f \" % (media))"
      ]
    },
    {
      "cell_type": "code",
      "execution_count": null,
      "metadata": {
        "id": "7zrhdWjzSjoq"
      },
      "outputs": [],
      "source": [
        "# 3 - Crie um programa que calcule o IMC (índice de massa corporal).\n",
        "# O IMC é dado pelo peso em KG divido pela altura em metros elevado ao quadrado.\n",
        "# Salvar esses valores em uma variável. Mostre esse valor na saída do programa.\n"
      ]
    },
    {
      "cell_type": "code",
      "execution_count": null,
      "metadata": {
        "colab": {
          "base_uri": "https://localhost:8080/"
        },
        "id": "4UkGohRHf_cF",
        "outputId": "e4625cc1-7aa9-4cbd-bbb5-549b7313b285"
      },
      "outputs": [
        {
          "name": "stdout",
          "output_type": "stream",
          "text": [
            "O IMC é  27.0\n"
          ]
        }
      ],
      "source": [
        "peso = 80.5\n",
        "altura = 1.72\n",
        "imc = peso // altura ** 2\n",
        "print('O IMC é ', imc)"
      ]
    },
    {
      "cell_type": "code",
      "execution_count": null,
      "metadata": {
        "id": "cVwZMbP7Sjxb"
      },
      "outputs": [],
      "source": [
        "# 4 (Desafio) - Você tem um determinado números de ovos de páscoa para dividir\n",
        "# entre um determinado número de pessoas (duas variáveis iniciais).\n",
        "# Determine quantos ovos ficarão por pessoa e quantos ovos sobrarão\n",
        "# pois não puderam ser divido igualmente.\n",
        "# Lembre que o número de ovos por pessoa é um número inteiro"
      ]
    },
    {
      "cell_type": "code",
      "execution_count": null,
      "metadata": {
        "colab": {
          "base_uri": "https://localhost:8080/"
        },
        "id": "qV-h6f20gWFv",
        "outputId": "592503a1-7e41-490d-b8a6-a76014eedb40"
      },
      "outputs": [
        {
          "name": "stdout",
          "output_type": "stream",
          "text": [
            "Tenho inicialmente 56 ovos para 3 pessoas \n",
            "Cada uma das 3 pessoas terá 18 ovo(s) \n",
            "Restou 2 ovo(s) que não puderam ser divididos\n"
          ]
        }
      ],
      "source": [
        "ovos = 56\n",
        "pessoas = 3\n",
        "print(\"Tenho inicialmente %d ovos para %d pessoas \" % (ovos, pessoas))\n",
        "ovos_por_pessoas = ovos // pessoas\n",
        "ovos_restantes = ovos % pessoas\n",
        "print(\"Cada uma das %d pessoas terá %d ovo(s) \" % (pessoas, ovos_por_pessoas))\n",
        "print(\"Restou %d ovo(s) que não puderam ser divididos\" % (ovos_restantes))"
      ]
    },
    {
      "cell_type": "markdown",
      "metadata": {
        "id": "TxXpMhMpiF6E"
      },
      "source": [
        "# Operadores Lógicos"
      ]
    },
    {
      "cell_type": "code",
      "execution_count": null,
      "metadata": {
        "colab": {
          "base_uri": "https://localhost:8080/"
        },
        "id": "vki24DSqhSAr",
        "outputId": "25ac0d22-0894-4a57-d3c4-93c9c5e7ac99"
      },
      "outputs": [
        {
          "name": "stdout",
          "output_type": "stream",
          "text": [
            "False\n"
          ]
        }
      ],
      "source": [
        "resultado1 = True and False\n",
        "print(resultado1)"
      ]
    },
    {
      "cell_type": "code",
      "execution_count": null,
      "metadata": {
        "colab": {
          "base_uri": "https://localhost:8080/"
        },
        "id": "Aq1PoYg_mfQw",
        "outputId": "fe18ce5a-fbf6-4fb2-e0d1-b78cba3dc798"
      },
      "outputs": [
        {
          "name": "stdout",
          "output_type": "stream",
          "text": [
            "True\n"
          ]
        }
      ],
      "source": [
        "resultado2 = True and True\n",
        "print(resultado2)"
      ]
    },
    {
      "cell_type": "code",
      "execution_count": null,
      "metadata": {
        "colab": {
          "base_uri": "https://localhost:8080/"
        },
        "id": "r4eJ3EyGmlzg",
        "outputId": "50b6431e-f011-4e91-ed26-c6979b5a0511"
      },
      "outputs": [
        {
          "name": "stdout",
          "output_type": "stream",
          "text": [
            "False\n"
          ]
        }
      ],
      "source": [
        "var1 = True\n",
        "var2 = True\n",
        "var3 = False\n",
        "print(var1 and var2 and var3)"
      ]
    },
    {
      "cell_type": "code",
      "execution_count": null,
      "metadata": {
        "colab": {
          "base_uri": "https://localhost:8080/"
        },
        "id": "_M4bH4Jbm0OR",
        "outputId": "b2fb3219-921e-45fe-a28b-3e43d0d21cc8"
      },
      "outputs": [
        {
          "name": "stdout",
          "output_type": "stream",
          "text": [
            "Vou ao mercado?  True\n"
          ]
        }
      ],
      "source": [
        "clima_bom = True\n",
        "estou_disposto = True\n",
        "vou_ao_mercado = clima_bom and estou_disposto\n",
        "print(\"Vou ao mercado? \", vou_ao_mercado)"
      ]
    },
    {
      "cell_type": "code",
      "execution_count": null,
      "metadata": {
        "colab": {
          "base_uri": "https://localhost:8080/"
        },
        "id": "6E5Ad4zWnSZ7",
        "outputId": "6e3b7684-5d77-4985-de65-bb719026f01a"
      },
      "outputs": [
        {
          "name": "stdout",
          "output_type": "stream",
          "text": [
            "True\n"
          ]
        }
      ],
      "source": [
        "resultado = True or False\n",
        "print(resultado)"
      ]
    },
    {
      "cell_type": "code",
      "execution_count": null,
      "metadata": {
        "colab": {
          "base_uri": "https://localhost:8080/"
        },
        "id": "xMP-STu-nwR1",
        "outputId": "795f67f4-deb9-4ef3-bd1c-31f61871ea53"
      },
      "outputs": [
        {
          "name": "stdout",
          "output_type": "stream",
          "text": [
            "True\n"
          ]
        }
      ],
      "source": [
        "resultado = True or True\n",
        "print(resultado)"
      ]
    },
    {
      "cell_type": "code",
      "execution_count": null,
      "metadata": {
        "colab": {
          "base_uri": "https://localhost:8080/"
        },
        "id": "4dpskpmkn1NM",
        "outputId": "0f2bdb6e-f3d1-4998-b443-2750607f0b76"
      },
      "outputs": [
        {
          "name": "stdout",
          "output_type": "stream",
          "text": [
            "False\n"
          ]
        }
      ],
      "source": [
        "resultado = False or False\n",
        "print(resultado)"
      ]
    },
    {
      "cell_type": "code",
      "execution_count": null,
      "metadata": {
        "colab": {
          "base_uri": "https://localhost:8080/"
        },
        "id": "aXeN_8l0n4ys",
        "outputId": "2bfce485-e5ec-4ed9-aee5-a7c736095bc8"
      },
      "outputs": [
        {
          "name": "stdout",
          "output_type": "stream",
          "text": [
            "Terei um bom salário?  True\n"
          ]
        }
      ],
      "source": [
        "sei_programar = True\n",
        "sei_investir = False\n",
        "ganho_bom_salario = sei_programar or sei_investir\n",
        "print(\"Terei um bom salário? \", ganho_bom_salario)"
      ]
    },
    {
      "cell_type": "code",
      "execution_count": null,
      "metadata": {
        "colab": {
          "base_uri": "https://localhost:8080/"
        },
        "id": "rCN11he8oPct",
        "outputId": "e45a4e4a-a2ba-4ae2-8243-a342328d455f"
      },
      "outputs": [
        {
          "name": "stdout",
          "output_type": "stream",
          "text": [
            "True\n"
          ]
        }
      ],
      "source": [
        "resultado = False\n",
        "print(not resultado)"
      ]
    },
    {
      "cell_type": "code",
      "execution_count": null,
      "metadata": {
        "colab": {
          "base_uri": "https://localhost:8080/"
        },
        "id": "NCmU_3XfpP4Y",
        "outputId": "315a7071-b2d0-4d86-d3ff-a2e73e0091c6"
      },
      "outputs": [
        {
          "name": "stdout",
          "output_type": "stream",
          "text": [
            "Estou trancado?  True\n"
          ]
        }
      ],
      "source": [
        "porta_aberta = False\n",
        "tem_chave = False\n",
        "print(\"Estou trancado? \", not porta_aberta and not tem_chave)"
      ]
    },
    {
      "cell_type": "code",
      "execution_count": null,
      "metadata": {
        "id": "fZ82ZsY9p2vh"
      },
      "outputs": [],
      "source": [
        "# Prioridade\n",
        "# NOT , AND, OR"
      ]
    },
    {
      "cell_type": "code",
      "execution_count": null,
      "metadata": {
        "colab": {
          "base_uri": "https://localhost:8080/"
        },
        "id": "QkI3phpprN6m",
        "outputId": "9bc31bdb-d9c2-496f-e1a0-0620aa8557ad"
      },
      "outputs": [
        {
          "name": "stdout",
          "output_type": "stream",
          "text": [
            "True\n"
          ]
        }
      ],
      "source": [
        "bool1 = True or False and True\n",
        "print(bool1)"
      ]
    },
    {
      "cell_type": "code",
      "execution_count": null,
      "metadata": {
        "colab": {
          "base_uri": "https://localhost:8080/"
        },
        "id": "y3EI-4nbrakf",
        "outputId": "1504f6b6-a500-4a45-d6f6-48aa81dfa46b"
      },
      "outputs": [
        {
          "name": "stdout",
          "output_type": "stream",
          "text": [
            "True\n"
          ]
        }
      ],
      "source": [
        "bool2 = True or not False\n",
        "print(bool2)"
      ]
    },
    {
      "cell_type": "code",
      "execution_count": null,
      "metadata": {
        "colab": {
          "base_uri": "https://localhost:8080/"
        },
        "id": "JpIy2m5wrkjJ",
        "outputId": "012a26e1-760d-4581-a215-d6e0e7c8f26d"
      },
      "outputs": [
        {
          "name": "stdout",
          "output_type": "stream",
          "text": [
            "False\n"
          ]
        }
      ],
      "source": [
        "bool3 = True and not (True or False)\n",
        "print(bool3)"
      ]
    },
    {
      "cell_type": "code",
      "execution_count": null,
      "metadata": {
        "id": "jJzqlXemr57J"
      },
      "outputs": [],
      "source": [
        "# 1 - Crie um programa que diga “se você precisar ir ao mercado”.\n",
        "# Você precisa ir ao mercado se “faltar comida” ou “se for sábado”.\n",
        "# Mostre na saída do programa o valor lógico, indicando sim ou não."
      ]
    },
    {
      "cell_type": "code",
      "execution_count": null,
      "metadata": {
        "colab": {
          "base_uri": "https://localhost:8080/"
        },
        "id": "h8aZth7iyY1P",
        "outputId": "008f6825-96ad-4a7b-c122-2d42d4e14602"
      },
      "outputs": [
        {
          "name": "stdout",
          "output_type": "stream",
          "text": [
            "Preciso ir ao mercado?  False\n"
          ]
        }
      ],
      "source": [
        "falta_comida = False\n",
        "e_sabado = True\n",
        "vou_ao_mercado = falta_comida or e_sabado\n",
        "print(\"Preciso ir ao mercado? \", vou_ao_mercado)"
      ]
    },
    {
      "cell_type": "code",
      "execution_count": null,
      "metadata": {
        "id": "3qNkMzSuxH0p"
      },
      "outputs": [],
      "source": [
        "# 2 - Crie um programa que responda “se você pode atravessar a rua”\n",
        "# na faixa de pedestres. Você pode atravessar a rua se o “sinal estiver\n",
        "# vermelho” e “se não houver nenhum carro vindo da direita” E “nem da esquerda”.\n",
        "# Altere as variáveis para verificar se o programa esta correto.\n",
        "# Mostre na saída do programa o valor lógico.\n"
      ]
    },
    {
      "cell_type": "code",
      "execution_count": null,
      "metadata": {
        "colab": {
          "base_uri": "https://localhost:8080/"
        },
        "id": "gsFu61KBy1R-",
        "outputId": "40fe074a-71d1-4ae9-bdb0-c6b06c15c00c"
      },
      "outputs": [
        {
          "name": "stdout",
          "output_type": "stream",
          "text": [
            "Posso atravessar?  True\n"
          ]
        }
      ],
      "source": [
        "sinal_vermelho = True\n",
        "carro_vindo_direita = False\n",
        "carro_vindo_esquerda = False\n",
        "pode_atravessar = sinal_vermelho and not carro_vindo_direita and not carro_vindo_esquerda\n",
        "print(\"Posso atravessar? \", pode_atravessar)"
      ]
    },
    {
      "cell_type": "code",
      "execution_count": null,
      "metadata": {
        "id": "FMbjbdlJxH6J"
      },
      "outputs": [],
      "source": [
        "# 3 - Agora faça a mesma coisa que o exercício anterior, mas desta vez você\n",
        "# esta com pressa e para atravessar a rua basta que o sinal esteja vermelho\n",
        "# \"OU\" que não venha carro da esquerda e direita. Altere as variáveis\n",
        "# para verificar a resposta em comparação com ao exercício anterior.\n",
        "# Mostre na saída do programa o valor lógico."
      ]
    },
    {
      "cell_type": "code",
      "execution_count": null,
      "metadata": {
        "colab": {
          "base_uri": "https://localhost:8080/"
        },
        "id": "7p6bZsJWzupP",
        "outputId": "ca105372-16e5-43d9-e9ae-889135b406a8"
      },
      "outputs": [
        {
          "name": "stdout",
          "output_type": "stream",
          "text": [
            "Posso atravessar?  False\n"
          ]
        }
      ],
      "source": [
        "sinal_vermelho = False\n",
        "carro_vindo_direita = True\n",
        "carro_vindo_esquerda = True\n",
        "pode_atravessar = sinal_vermelho or not carro_vindo_direita and not carro_vindo_esquerda\n",
        "print(\"Posso atravessar? \", pode_atravessar)"
      ]
    },
    {
      "cell_type": "markdown",
      "metadata": {
        "id": "BILLkQpy0eJ1"
      },
      "source": [
        "# Casting"
      ]
    },
    {
      "cell_type": "code",
      "execution_count": null,
      "metadata": {
        "colab": {
          "base_uri": "https://localhost:8080/"
        },
        "id": "xcP_KVafz2Zo",
        "outputId": "7a5fc917-1b0a-4e07-e0cc-c56c33925817"
      },
      "outputs": [
        {
          "name": "stdout",
          "output_type": "stream",
          "text": [
            "<class 'str'>\n",
            "<class 'int'>\n",
            "<class 'float'>\n",
            "<class 'bool'>\n"
          ]
        }
      ],
      "source": [
        "texto = \"olá\"\n",
        "numero = 2\n",
        "decimal = 1.5\n",
        "booleano = True\n",
        "print(type(texto))\n",
        "print(type(numero))\n",
        "print(type(decimal))\n",
        "print(type(booleano))"
      ]
    },
    {
      "cell_type": "code",
      "execution_count": null,
      "metadata": {
        "colab": {
          "base_uri": "https://localhost:8080/"
        },
        "id": "ClbU1FvG1LLM",
        "outputId": "68f3e883-37e5-4937-b00e-0f6d99b1bd5d"
      },
      "outputs": [
        {
          "name": "stdout",
          "output_type": "stream",
          "text": [
            "<class 'str'>\n",
            "<class 'int'>\n",
            "<class 'float'>\n",
            "3.5\n"
          ]
        }
      ],
      "source": [
        "texto1 = \"2\"\n",
        "texto2 = \"1.5\"\n",
        "numero1 = int(texto1)\n",
        "numero2 = float(texto2)\n",
        "print(type(texto1))\n",
        "print(type(numero1))\n",
        "print(type(numero2))\n",
        "print(numero1 + numero2)"
      ]
    },
    {
      "cell_type": "code",
      "execution_count": null,
      "metadata": {
        "colab": {
          "base_uri": "https://localhost:8080/"
        },
        "id": "qijgfZIb1s4q",
        "outputId": "040179bd-34c0-4cbd-dd61-ebf3c9c7fff8"
      },
      "outputs": [
        {
          "name": "stdout",
          "output_type": "stream",
          "text": [
            "A parte inteira de 21.456460 é 21\n"
          ]
        }
      ],
      "source": [
        "num = 21.45646\n",
        "inteira = int(num)\n",
        "print(\"A parte inteira de %f é %d\" % (num, inteira))"
      ]
    },
    {
      "cell_type": "code",
      "execution_count": null,
      "metadata": {
        "colab": {
          "base_uri": "https://localhost:8080/"
        },
        "id": "70DtuBQX2Ox0",
        "outputId": "9c82cc8e-147d-4fb4-db57-64bd289c2cb1"
      },
      "outputs": [
        {
          "name": "stdout",
          "output_type": "stream",
          "text": [
            "O número é:  10.3\n",
            "<class 'str'>\n"
          ]
        }
      ],
      "source": [
        "texto = \"O número é: \"\n",
        "numero = 10.3\n",
        "numero_em_string = str(numero)\n",
        "print(texto, numero_em_string)\n",
        "print(type(numero_em_string))"
      ]
    },
    {
      "cell_type": "code",
      "execution_count": null,
      "metadata": {
        "colab": {
          "base_uri": "https://localhost:8080/"
        },
        "id": "QU-Zkjl12ufL",
        "outputId": "98bf7bfe-5506-4144-d58c-7c9ee8a30f7b"
      },
      "outputs": [
        {
          "name": "stdout",
          "output_type": "stream",
          "text": [
            "O número 123 tem 3 digitos \n"
          ]
        }
      ],
      "source": [
        "numero = 123\n",
        "texto = str(numero)\n",
        "numero_de_digitos = len(texto)\n",
        "print(\"O número %s tem %d digitos \" % (texto, numero_de_digitos))"
      ]
    },
    {
      "cell_type": "code",
      "execution_count": null,
      "metadata": {
        "colab": {
          "base_uri": "https://localhost:8080/"
        },
        "id": "WAJbTxJX3Jat",
        "outputId": "a3cb2357-c8a2-408b-9dd3-db5940db92c0"
      },
      "outputs": [
        {
          "name": "stdout",
          "output_type": "stream",
          "text": [
            "Variável tem valor:  False\n",
            "Número tem valor:  True\n",
            "Número tem valor:  False\n",
            "String tem conteúdo:  True\n",
            "String tem conteúdo:  False\n",
            "Float tem valor:  False\n",
            "Float tem valor:  True\n"
          ]
        }
      ],
      "source": [
        "vazio = None\n",
        "numero_um = 15\n",
        "numero_zero = 0\n",
        "texto = \"Texto\"\n",
        "texto_vazio = \"\"\n",
        "decimal_zero = 0.0\n",
        "decimal = 3.5\n",
        "\n",
        "print(\"Variável tem valor: \", bool(vazio))\n",
        "\n",
        "print(\"Número tem valor: \", bool(numero_um))\n",
        "print(\"Número tem valor: \", bool(numero_zero))\n",
        "\n",
        "print(\"String tem conteúdo: \", bool(texto))\n",
        "print(\"String tem conteúdo: \", bool(texto_vazio))\n",
        "\n",
        "print(\"Float tem valor: \", bool(decimal_zero))\n",
        "print(\"Float tem valor: \", bool(decimal))\n"
      ]
    },
    {
      "cell_type": "code",
      "execution_count": null,
      "metadata": {
        "id": "6Hx0_E2s6Skq"
      },
      "outputs": [],
      "source": [
        "# 1 - Crie um programa que possui uma variável do “tipo string”\n",
        "# contendo um número que indique quanto você tem no banco.\n",
        "# Em seguida desconte mil deste valor e mostre na saída do programa."
      ]
    },
    {
      "cell_type": "code",
      "execution_count": null,
      "metadata": {
        "colab": {
          "base_uri": "https://localhost:8080/"
        },
        "id": "6WcDLWIC78Zq",
        "outputId": "0ded94c0-aaa2-42c0-b6b2-bc8a446c4977"
      },
      "outputs": [
        {
          "name": "stdout",
          "output_type": "stream",
          "text": [
            "Tenho no banco R$ 3500.45 \n"
          ]
        }
      ],
      "source": [
        "saldo_em_texto = \"4500.45\"\n",
        "saldo = float(saldo_em_texto)\n",
        "total = saldo - 1000\n",
        "print(\"Tenho no banco R$ %.2f \" % (total))"
      ]
    },
    {
      "cell_type": "code",
      "execution_count": null,
      "metadata": {
        "id": "RlZK6LmW6SpI"
      },
      "outputs": [],
      "source": [
        "# 2 - Crie um programa que indique se seu saldo bancário esta zerado\n",
        "# (valor lógico). Declare uma variável para guardar seu saldo bancário."
      ]
    },
    {
      "cell_type": "code",
      "execution_count": null,
      "metadata": {
        "colab": {
          "base_uri": "https://localhost:8080/"
        },
        "id": "k1oBbs0A8cJ6",
        "outputId": "611b23ad-878a-47b2-b3aa-b71bfb5adc51"
      },
      "outputs": [
        {
          "name": "stdout",
          "output_type": "stream",
          "text": [
            "Saldo zerado:  True\n"
          ]
        }
      ],
      "source": [
        "saldo = 0.0\n",
        "esta_zerado = not bool(saldo)\n",
        "print(\"Saldo zerado: \", esta_zerado)"
      ]
    },
    {
      "cell_type": "code",
      "execution_count": null,
      "metadata": {
        "id": "tn7jRKjG4Iw8"
      },
      "outputs": [],
      "source": [
        "# 3 - Crie um programa que contenha sua altura, mas deve somente mostrar\n",
        "# a parte inteira de sua altura na saída do programa,\n",
        "# pois queremos uma estimativa."
      ]
    },
    {
      "cell_type": "code",
      "execution_count": null,
      "metadata": {
        "colab": {
          "base_uri": "https://localhost:8080/"
        },
        "id": "s5raujhl8y1B",
        "outputId": "2933e37a-9c65-4ccf-c0fd-6b7b099de00f"
      },
      "outputs": [
        {
          "name": "stdout",
          "output_type": "stream",
          "text": [
            "Tenho pelo menos 1 metros de altura \n"
          ]
        }
      ],
      "source": [
        "altura = 1.73\n",
        "altura_inteira = int(altura)\n",
        "print(\"Tenho pelo menos %i metros de altura \" % (altura_inteira))"
      ]
    },
    {
      "cell_type": "markdown",
      "metadata": {
        "id": "RNI6rt-x-Fd1"
      },
      "source": [
        "# Input"
      ]
    },
    {
      "cell_type": "code",
      "execution_count": null,
      "metadata": {
        "colab": {
          "base_uri": "https://localhost:8080/"
        },
        "id": "0PZIiCq29E7H",
        "outputId": "bea27704-4b4c-4bdb-ced3-d25b51336886"
      },
      "outputs": [
        {
          "name": "stdout",
          "output_type": "stream",
          "text": [
            "20\n",
            "<class 'str'>\n",
            "20\n"
          ]
        }
      ],
      "source": [
        "valor_escrito = input()\n",
        "print(type(valor_escrito))\n",
        "print(valor_escrito)"
      ]
    },
    {
      "cell_type": "code",
      "execution_count": null,
      "metadata": {
        "colab": {
          "base_uri": "https://localhost:8080/"
        },
        "id": "ZP1azA0z-W53",
        "outputId": "b15ed34c-372d-4b56-dead-58b958a27745"
      },
      "outputs": [
        {
          "name": "stdout",
          "output_type": "stream",
          "text": [
            "Fernando\n",
            "Eu me chamo Fernando \n"
          ]
        }
      ],
      "source": [
        "meu_nome = input()\n",
        "print(\"Eu me chamo %s \" % (meu_nome))"
      ]
    },
    {
      "cell_type": "code",
      "execution_count": null,
      "metadata": {
        "colab": {
          "base_uri": "https://localhost:8080/"
        },
        "id": "nhgbuKBV-rQH",
        "outputId": "421ca975-ce16-47cf-e56f-928d192625d7"
      },
      "outputs": [
        {
          "name": "stdout",
          "output_type": "stream",
          "text": [
            "Insira o dia: 2\n",
            "Insira o mês: 12\n",
            "Insira o ano: 2002\n",
            "A data inserida for 2/12/2002 \n"
          ]
        }
      ],
      "source": [
        "dia = input(\"Insira o dia: \")\n",
        "mes = input(\"Insira o mês: \")\n",
        "ano = input(\"Insira o ano: \")\n",
        "print(\"A data inserida for %s/%s/%s \" % (dia, mes, ano))"
      ]
    },
    {
      "cell_type": "code",
      "execution_count": null,
      "metadata": {
        "colab": {
          "base_uri": "https://localhost:8080/"
        },
        "id": "E1ArnfMd_DP5",
        "outputId": "911d4e47-e615-4a63-f4f4-45cb09730027"
      },
      "outputs": [
        {
          "name": "stdout",
          "output_type": "stream",
          "text": [
            "Digite 1 para verdadeiro e 0 para falso: 0\n",
            "Você escolheu: False \n",
            "ou ainda, você escolheu: 0 \n"
          ]
        }
      ],
      "source": [
        "entrada_usuario = input(\"Digite 1 para verdadeiro e 0 para falso: \")\n",
        "valor_inteiro = int(entrada_usuario)\n",
        "valor_logico = bool(valor_inteiro)\n",
        "print(\"Você escolheu: %s \" % valor_logico)\n",
        "print(\"ou ainda, você escolheu: %i \" % (valor_inteiro))"
      ]
    },
    {
      "cell_type": "code",
      "execution_count": null,
      "metadata": {
        "id": "FksZVyZxACgA"
      },
      "outputs": [],
      "source": [
        "# 1 - Crie um programa que leia por input dois números e realize\n",
        "# a divisão entre ambos. Formate o print para mostrar o cálculo completo."
      ]
    },
    {
      "cell_type": "code",
      "execution_count": null,
      "metadata": {
        "colab": {
          "base_uri": "https://localhost:8080/"
        },
        "id": "OE1FoweXLASE",
        "outputId": "0cbc1856-1190-46fb-8e8a-b202c8ed51ba"
      },
      "outputs": [
        {
          "name": "stdout",
          "output_type": "stream",
          "text": [
            "Insira o primeiro número: 10\n",
            "Insira o segundo número: 3\n",
            "10 dividido por 3 é 3.33\n"
          ]
        }
      ],
      "source": [
        "num1 = input(\"Insira o primeiro número: \")\n",
        "num2 = input(\"Insira o segundo número: \")\n",
        "divisao =  float(num1) / float(num2)\n",
        "print(\"%s dividido por %s é %.2f\" % (num1, num2, divisao) )"
      ]
    },
    {
      "cell_type": "code",
      "execution_count": null,
      "metadata": {
        "id": "lp0GQIoRCEY6"
      },
      "outputs": [],
      "source": [
        "# 2 - Crie um programa que mostre o dia, mês, ano, hora,\n",
        "# minuto e segundos inseridos pelo usuário. Formate o valor."
      ]
    },
    {
      "cell_type": "code",
      "execution_count": null,
      "metadata": {
        "colab": {
          "base_uri": "https://localhost:8080/"
        },
        "id": "fWgWg5a3LtV7",
        "outputId": "a0865d11-da26-4d0e-eb6b-5e62515677ae"
      },
      "outputs": [
        {
          "name": "stdout",
          "output_type": "stream",
          "text": [
            "Insira o dia: 2\n",
            "Insira o mês: 12\n",
            "Insira o ano: 1998\n",
            "Insira a hora: 20\n",
            "Insira o minuto: 40\n",
            "Insira o segundo: 52\n",
            "2/12/1998 20:40:52\n"
          ]
        }
      ],
      "source": [
        " dia = input(\"Insira o dia: \")\n",
        " mes = input(\"Insira o mês: \")\n",
        " ano = input(\"Insira o ano: \")\n",
        " hora = input(\"Insira a hora: \")\n",
        " minuto = input(\"Insira o minuto: \")\n",
        " segundo = input(\"Insira o segundo: \")\n",
        " print(\"%s/%s/%s %s:%s:%s\" % (dia, mes, ano, hora, minuto, segundo))"
      ]
    },
    {
      "cell_type": "markdown",
      "metadata": {
        "id": "FPTeChfANyLy"
      },
      "source": [
        "# Operadores de Atribuição e Combinação de Operadores Lógicos"
      ]
    },
    {
      "cell_type": "code",
      "execution_count": null,
      "metadata": {
        "colab": {
          "base_uri": "https://localhost:8080/"
        },
        "id": "vSY4os5VOlZQ",
        "outputId": "cb4b8dae-aa8e-48a8-fb74-7ab5ab92a73d"
      },
      "outputs": [
        {
          "name": "stdout",
          "output_type": "stream",
          "text": [
            "2\n"
          ]
        }
      ],
      "source": [
        "numero = 1\n",
        "numero = numero + 1\n",
        "print(numero)"
      ]
    },
    {
      "cell_type": "code",
      "execution_count": null,
      "metadata": {
        "colab": {
          "base_uri": "https://localhost:8080/"
        },
        "id": "GOXjYpwWUGld",
        "outputId": "5b95f403-ef17-443f-9fef-ce795b505d70"
      },
      "outputs": [
        {
          "name": "stdout",
          "output_type": "stream",
          "text": [
            "2\n"
          ]
        }
      ],
      "source": [
        "numero = 1\n",
        "numero += 1\n",
        "print(numero)"
      ]
    },
    {
      "cell_type": "code",
      "execution_count": null,
      "metadata": {
        "colab": {
          "base_uri": "https://localhost:8080/"
        },
        "id": "ZCAzoOYcUVTg",
        "outputId": "19f6b203-7b5b-4ba8-c50a-a66b0bda89de"
      },
      "outputs": [
        {
          "name": "stdout",
          "output_type": "stream",
          "text": [
            "5.0\n"
          ]
        }
      ],
      "source": [
        "numero = 10\n",
        "numero = numero / 2\n",
        "print(numero)"
      ]
    },
    {
      "cell_type": "code",
      "execution_count": null,
      "metadata": {
        "colab": {
          "base_uri": "https://localhost:8080/"
        },
        "id": "olDKiirNUhH_",
        "outputId": "57086428-5b9e-432b-b036-fef8e69b1426"
      },
      "outputs": [
        {
          "name": "stdout",
          "output_type": "stream",
          "text": [
            "5.0\n"
          ]
        }
      ],
      "source": [
        "numero = 10\n",
        "numero /= 2\n",
        "print(numero)"
      ]
    },
    {
      "cell_type": "code",
      "execution_count": null,
      "metadata": {
        "colab": {
          "base_uri": "https://localhost:8080/"
        },
        "id": "qcJCIhzZUkO3",
        "outputId": "34286c3c-2730-4fda-f324-60fbae4fbcf1"
      },
      "outputs": [
        {
          "name": "stdout",
          "output_type": "stream",
          "text": [
            "True\n"
          ]
        }
      ],
      "source": [
        "num = 10\n",
        "booleana = (num == 10)\n",
        "print(booleana)"
      ]
    },
    {
      "cell_type": "code",
      "execution_count": null,
      "metadata": {
        "colab": {
          "base_uri": "https://localhost:8080/"
        },
        "id": "l_iA_dnQU7q_",
        "outputId": "928ec512-d476-41f0-e4f4-b3240720b46d"
      },
      "outputs": [
        {
          "name": "stdout",
          "output_type": "stream",
          "text": [
            "False\n"
          ]
        }
      ],
      "source": [
        "num = 10\n",
        "booleana = (num != 10)\n",
        "print(booleana)"
      ]
    },
    {
      "cell_type": "code",
      "execution_count": null,
      "metadata": {
        "colab": {
          "base_uri": "https://localhost:8080/"
        },
        "id": "lw9BWx09VVjI",
        "outputId": "5899cc97-0c31-40f0-9884-05360ba335e9"
      },
      "outputs": [
        {
          "name": "stdout",
          "output_type": "stream",
          "text": [
            "True\n"
          ]
        }
      ],
      "source": [
        "num1 = 10\n",
        "num2 = 20\n",
        "e_maior = num1 < num2\n",
        "print(e_maior)"
      ]
    },
    {
      "cell_type": "code",
      "execution_count": null,
      "metadata": {
        "colab": {
          "base_uri": "https://localhost:8080/"
        },
        "id": "uhQFDa_LV1UY",
        "outputId": "8eb2fe71-8c09-4f04-a634-ac4761ae205c"
      },
      "outputs": [
        {
          "name": "stdout",
          "output_type": "stream",
          "text": [
            "False\n"
          ]
        }
      ],
      "source": [
        "num1 = 21\n",
        "num2 = 20\n",
        "e_maior = num1 <= num2\n",
        "print(e_maior)"
      ]
    },
    {
      "cell_type": "code",
      "execution_count": null,
      "metadata": {
        "colab": {
          "base_uri": "https://localhost:8080/"
        },
        "id": "ANoL5KIEWDqf",
        "outputId": "53453287-67a9-41ce-87fa-766d25ecc77e"
      },
      "outputs": [
        {
          "name": "stdout",
          "output_type": "stream",
          "text": [
            "False\n"
          ]
        }
      ],
      "source": [
        "num = 11\n",
        "boolean = num > 0 and num < 10\n",
        "print(boolean)"
      ]
    },
    {
      "cell_type": "code",
      "execution_count": null,
      "metadata": {
        "colab": {
          "base_uri": "https://localhost:8080/"
        },
        "id": "8YRsDwB1WhJy",
        "outputId": "a9274ffa-5000-4ba1-c2a4-24ddc9fca0c4"
      },
      "outputs": [
        {
          "name": "stdout",
          "output_type": "stream",
          "text": [
            "True\n"
          ]
        }
      ],
      "source": [
        "#ver. se é tipo float e igual a 10.1. ou 20.2\n",
        "num = 10.1\n",
        "boolean = type(num) == float and (num == 10.1 or num == 20.2)\n",
        "print(boolean)"
      ]
    },
    {
      "cell_type": "code",
      "execution_count": null,
      "metadata": {
        "id": "h9uMDh88XjCw"
      },
      "outputs": [],
      "source": [
        "# 1 - Crie um programa que responda se você foi aprovado numa prova.\n",
        "# Você somente foi aprovado numa prova se sua média for maior ou igual que 7\n",
        "# ou se sua nota no exame for maior ou igual a 5. Leia esses valores por input.\n"
      ]
    },
    {
      "cell_type": "code",
      "execution_count": null,
      "metadata": {
        "colab": {
          "base_uri": "https://localhost:8080/"
        },
        "id": "1MIWRE2Nd2Nb",
        "outputId": "f2d3ed8c-7593-4547-d785-4fae353dfc3d"
      },
      "outputs": [
        {
          "name": "stdout",
          "output_type": "stream",
          "text": [
            "Digite sua média nas provas: 6\n",
            "Digite sua nota no exame: 4\n",
            "Aprovação:  False\n"
          ]
        }
      ],
      "source": [
        "media_input = input(\"Digite sua média nas provas: \")\n",
        "exame_input = input(\"Digite sua nota no exame: \")\n",
        "media_prova = int(media_input)\n",
        "nota_exame = int(exame_input)\n",
        "aprovado = (media_prova >=7) or (nota_exame >= 5)\n",
        "print(\"Aprovação: \", aprovado)"
      ]
    },
    {
      "cell_type": "code",
      "execution_count": null,
      "metadata": {
        "id": "VUKY7H4VaS_i"
      },
      "outputs": [],
      "source": [
        "# 2 - Crie  um programa que diga se a senha esta correta e portanto você tem\n",
        "# acesso ao sistema. A senha devera ser salva no código, e a tentativa deve ser\n",
        "# lida por input.\n"
      ]
    },
    {
      "cell_type": "code",
      "execution_count": null,
      "metadata": {
        "colab": {
          "base_uri": "https://localhost:8080/"
        },
        "id": "QMzNd2veeqV0",
        "outputId": "45a5d526-8da4-4d0d-def7-4b64ccd602ee"
      },
      "outputs": [
        {
          "name": "stdout",
          "output_type": "stream",
          "text": [
            "Digite a senha: 547\n",
            "Senha está correta?  False\n"
          ]
        }
      ],
      "source": [
        "senha_tentativa = input(\"Digite a senha: \")\n",
        "senha_padrao = \"1234\"\n",
        "print(\"Senha está correta? \", senha_tentativa == senha_padrao)"
      ]
    },
    {
      "cell_type": "markdown",
      "metadata": {
        "id": "CI71VDFLfdcZ"
      },
      "source": [
        "# Operadores sobre string"
      ]
    },
    {
      "cell_type": "code",
      "execution_count": null,
      "metadata": {
        "colab": {
          "base_uri": "https://localhost:8080/"
        },
        "id": "GvJ1qF30e93-",
        "outputId": "23d49ccb-87bf-4b8c-f4a3-25af328c1093"
      },
      "outputs": [
        {
          "name": "stdout",
          "output_type": "stream",
          "text": [
            "olá, tudo bem?\n"
          ]
        }
      ],
      "source": [
        "texto1 = \"olá\"\n",
        "texto2 = \", \"\n",
        "texto3 = \"tudo bem?\"\n",
        "texto_completo = texto1 + texto2 + texto3\n",
        "print(texto_completo)"
      ]
    },
    {
      "cell_type": "code",
      "execution_count": null,
      "metadata": {
        "colab": {
          "base_uri": "https://localhost:8080/"
        },
        "id": "OBN73TKif0Ma",
        "outputId": "04bfa013-d970-4614-b03c-d9ad0608331b"
      },
      "outputs": [
        {
          "name": "stdout",
          "output_type": "stream",
          "text": [
            "olá mundo\n"
          ]
        }
      ],
      "source": [
        "texto1 = \"olá\"\n",
        "texto1 += \" mundo\"\n",
        "print(texto1)"
      ]
    },
    {
      "cell_type": "code",
      "execution_count": null,
      "metadata": {
        "colab": {
          "base_uri": "https://localhost:8080/"
        },
        "id": "A1viznnvf_YI",
        "outputId": "4896b02f-83c6-4c86-b49c-e2569d45eeeb"
      },
      "outputs": [
        {
          "name": "stdout",
          "output_type": "stream",
          "text": [
            "Python é bem produtivo,Python é bem produtivo,Python é bem produtivo,\n"
          ]
        }
      ],
      "source": [
        "texto = \"Python é bem produtivo,\"\n",
        "texto_repetido = texto * 3\n",
        "print(texto_repetido)"
      ]
    },
    {
      "cell_type": "code",
      "execution_count": null,
      "metadata": {
        "colab": {
          "base_uri": "https://localhost:8080/"
        },
        "id": "VuTJYZi_gKhv",
        "outputId": "4551f6c7-ad3d-48a7-a7bb-fbe37ab6e3d3"
      },
      "outputs": [
        {
          "name": "stdout",
          "output_type": "stream",
          "text": [
            "e\n",
            "x\n"
          ]
        }
      ],
      "source": [
        "texto = \"exemplo\"\n",
        "print(texto[0])\n",
        "print(texto[1])"
      ]
    },
    {
      "cell_type": "code",
      "execution_count": null,
      "metadata": {
        "colab": {
          "base_uri": "https://localhost:8080/"
        },
        "id": "KK6qfXM2gbA2",
        "outputId": "fd088b43-0e7b-4a80-e4ab-9a61fcada421"
      },
      "outputs": [
        {
          "name": "stdout",
          "output_type": "stream",
          "text": [
            "xem\n",
            "mplo\n",
            "exemp\n"
          ]
        }
      ],
      "source": [
        "texto = \"exemplo\"\n",
        "print(texto[1:4])\n",
        "print(texto[3:])''\n",
        "print(texto[:5])"
      ]
    },
    {
      "cell_type": "code",
      "execution_count": null,
      "metadata": {
        "colab": {
          "base_uri": "https://localhost:8080/"
        },
        "id": "Vm74nEEhgvTv",
        "outputId": "c0ba507c-1778-4b94-f828-23e0dcbe3372"
      },
      "outputs": [
        {
          "name": "stdout",
          "output_type": "stream",
          "text": [
            "a\n",
            "arro\n",
            "carr\n",
            "car\n"
          ]
        }
      ],
      "source": [
        "texto = \"carro\"\n",
        "print(texto[-4])\n",
        "print(texto[-4:])\n",
        "print(texto[:-1])\n",
        "print(texto[-5:-2])"
      ]
    },
    {
      "cell_type": "code",
      "execution_count": null,
      "metadata": {
        "colab": {
          "base_uri": "https://localhost:8080/"
        },
        "id": "xwbVHinghycr",
        "outputId": "d86a5d2b-a0b3-4279-dc22-22e1f836b952"
      },
      "outputs": [
        {
          "name": "stdout",
          "output_type": "stream",
          "text": [
            "ortem\n",
            "rtem\n",
            "rt\n"
          ]
        }
      ],
      "source": [
        "texto = \"metro\"\n",
        "print(texto[::-1])\n",
        "print(texto[3::-1])\n",
        "print(texto[3:1:-1])"
      ]
    },
    {
      "cell_type": "code",
      "execution_count": null,
      "metadata": {
        "colab": {
          "base_uri": "https://localhost:8080/"
        },
        "id": "6nIfGa_2jmaG",
        "outputId": "0a9fac84-0c44-4339-8feb-8f26fad5ca84"
      },
      "outputs": [
        {
          "name": "stdout",
          "output_type": "stream",
          "text": [
            "123\n"
          ]
        }
      ],
      "source": [
        "texto = \"023\"\n",
        "texto = \"1\" + texto[1:]\n",
        "print(texto)"
      ]
    },
    {
      "cell_type": "code",
      "execution_count": null,
      "metadata": {
        "colab": {
          "base_uri": "https://localhost:8080/"
        },
        "id": "nOW82VKFj2zF",
        "outputId": "97e49320-1033-4c4f-bac2-a6e60c128f18"
      },
      "outputs": [
        {
          "name": "stdout",
          "output_type": "stream",
          "text": [
            "abcefg\n"
          ]
        }
      ],
      "source": [
        "texto = \"abcdefg\"\n",
        "texto = texto[:3] + texto[4:]\n",
        "print(texto)"
      ]
    },
    {
      "cell_type": "code",
      "execution_count": null,
      "metadata": {
        "colab": {
          "base_uri": "https://localhost:8080/"
        },
        "id": "-6VFXcIylu6O",
        "outputId": "96d2ada2-1b0b-4083-eee4-bbdcfd04fd8a"
      },
      "outputs": [
        {
          "name": "stdout",
          "output_type": "stream",
          "text": [
            "Textos são iguais?  True\n"
          ]
        }
      ],
      "source": [
        "texto1 = \"Olá\"\n",
        "texto2 = \"Olá\"\n",
        "igual = texto1 == texto2\n",
        "print(\"Textos são iguais? \", igual)"
      ]
    },
    {
      "cell_type": "code",
      "execution_count": null,
      "metadata": {
        "colab": {
          "base_uri": "https://localhost:8080/"
        },
        "id": "EcfvxQF9-Ga4",
        "outputId": "fcdba5f0-66d6-4e1d-a586-3695a6e41bdf"
      },
      "outputs": [
        {
          "name": "stdout",
          "output_type": "stream",
          "text": [
            "True\n"
          ]
        }
      ],
      "source": [
        "print(\"a\" != \"b\")"
      ]
    },
    {
      "cell_type": "code",
      "execution_count": null,
      "metadata": {
        "colab": {
          "base_uri": "https://localhost:8080/"
        },
        "id": "mbSb-HB8-TIp",
        "outputId": "68c6dc45-e5a1-4adc-b8fd-64bc8ec19420"
      },
      "outputs": [
        {
          "name": "stdout",
          "output_type": "stream",
          "text": [
            "True\n",
            "False\n",
            "True\n",
            "False\n",
            "True\n"
          ]
        }
      ],
      "source": [
        "texto = \"Programação\"\n",
        "print(\"a\" in texto)\n",
        "print(\"e\" in texto)\n",
        "print(\"Programa\" in texto)\n",
        "print(\"Programa\" not in texto)\n",
        "print(\"Vinte\" not in texto)"
      ]
    },
    {
      "cell_type": "code",
      "execution_count": null,
      "metadata": {
        "colab": {
          "base_uri": "https://localhost:8080/"
        },
        "id": "kv1Tl0Bm-lhB",
        "outputId": "1ffbc68e-3536-4ab5-eaf9-55d975d0f49e"
      },
      "outputs": [
        {
          "name": "stdout",
          "output_type": "stream",
          "text": [
            "11\n"
          ]
        }
      ],
      "source": [
        "tamanho = len(texto)\n",
        "print(tamanho)"
      ]
    },
    {
      "cell_type": "code",
      "execution_count": null,
      "metadata": {
        "id": "T2Y2RmuA_KJV"
      },
      "outputs": [],
      "source": [
        "# 1 - Crie um única string que contêm seu nome e sobrenome, em seguida use o\n",
        "# slicing para separar o nome em uma variável e o seu sobrenome em outra.\n",
        "# Printe esses valores."
      ]
    },
    {
      "cell_type": "code",
      "execution_count": null,
      "metadata": {
        "colab": {
          "base_uri": "https://localhost:8080/"
        },
        "id": "y7bHeeczCeO3",
        "outputId": "e4d9bf53-1969-49f6-c694-1f09c6b92b45"
      },
      "outputs": [
        {
          "name": "stdout",
          "output_type": "stream",
          "text": [
            "Nome:  Carlos\n",
            "Sobrenome Silva\n"
          ]
        }
      ],
      "source": [
        "nome_completo = \"Carlos Silva\"\n",
        "nome = nome_completo[:6]\n",
        "sobrenome = nome_completo[7:]\n",
        "print(\"Nome: \", nome)\n",
        "print(\"Sobrenome\", sobrenome)"
      ]
    },
    {
      "cell_type": "code",
      "execution_count": null,
      "metadata": {
        "colab": {
          "base_uri": "https://localhost:8080/"
        },
        "id": "ul8HnSglAdND",
        "outputId": "33319b4a-ac56-4898-ba69-7379b577ec99"
      },
      "outputs": [
        {
          "name": "stdout",
          "output_type": "stream",
          "text": [
            "Digite um texto qualquer: Python\n",
            "Pytho\n"
          ]
        }
      ],
      "source": [
        "# 2 - Leia uma string através do input e retire o ultimo caractere.\n",
        "string = input(\"Digite um texto qualquer: \")\n",
        "string = string[:-1]\n",
        "print(string)"
      ]
    },
    {
      "cell_type": "code",
      "execution_count": null,
      "metadata": {
        "id": "J6QGUsPHAdUT"
      },
      "outputs": [],
      "source": [
        "# 3 - Faça um programa que leia uma string através do input e diga se\n",
        "# ela possui uma vogal."
      ]
    },
    {
      "cell_type": "code",
      "execution_count": null,
      "metadata": {
        "colab": {
          "base_uri": "https://localhost:8080/"
        },
        "id": "aHhd67rjDqfs",
        "outputId": "ece42d33-922e-4f2a-a976-0a107fe5d7ac"
      },
      "outputs": [
        {
          "name": "stdout",
          "output_type": "stream",
          "text": [
            "Digite uma palavra: txdtg\n",
            "Possui vogal?  False\n"
          ]
        }
      ],
      "source": [
        "texto = input(\"Digite uma palavra: \")\n",
        "possui_vogal = (\"a\" in texto) or (\"e\" in texto) or (\"i\" in texto) or (\"o\" in texto)  or   (\"u\" in texto)\n",
        "print(\"Possui vogal? \", possui_vogal)"
      ]
    },
    {
      "cell_type": "code",
      "execution_count": null,
      "metadata": {
        "id": "bIdqUqPjAdbk"
      },
      "outputs": [],
      "source": [
        "# 4 - Faça um programa que insira a palavra 'ABC' na primeira posição\n",
        "# de uma string lida por input."
      ]
    },
    {
      "cell_type": "code",
      "execution_count": null,
      "metadata": {
        "colab": {
          "base_uri": "https://localhost:8080/"
        },
        "id": "-As8QK5MEc-x",
        "outputId": "c51e1af8-3b5e-44cd-eb0e-5492a5bdfe59"
      },
      "outputs": [
        {
          "name": "stdout",
          "output_type": "stream",
          "text": [
            "Digite uma palavra: Python\n",
            "ABCPython\n"
          ]
        }
      ],
      "source": [
        "texto = input(\"Digite uma palavra: \")\n",
        "texto = \"ABC\" + texto[0:]\n",
        "print(texto)"
      ]
    },
    {
      "cell_type": "code",
      "execution_count": null,
      "metadata": {
        "id": "wIMjxzmWE1p6"
      },
      "outputs": [],
      "source": []
    }
  ],
  "metadata": {
    "colab": {
      "collapsed_sections": [
        "zvoP2_E7rS9H",
        "KjOoTpXMtrDc",
        "HYrbsRFJ4MOh"
      ],
      "provenance": [],
      "include_colab_link": true
    },
    "kernelspec": {
      "display_name": "Python 3 (ipykernel)",
      "language": "python",
      "name": "python3"
    },
    "language_info": {
      "codemirror_mode": {
        "name": "ipython",
        "version": 3
      },
      "file_extension": ".py",
      "mimetype": "text/x-python",
      "name": "python",
      "nbconvert_exporter": "python",
      "pygments_lexer": "ipython3",
      "version": "3.8.10"
    }
  },
  "nbformat": 4,
  "nbformat_minor": 0
}